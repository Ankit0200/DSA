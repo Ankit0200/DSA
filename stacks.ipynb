{
 "cells": [
  {
   "cell_type": "code",
   "execution_count": null,
   "id": "a865a2ef",
   "metadata": {
    "ExecuteTime": {
     "end_time": "2025-07-11T23:10:04.842435Z",
     "start_time": "2025-07-11T23:10:04.837263Z"
    }
   },
   "outputs": [],
   "source": [
    "# stacks works on LIFO ( LAST IN FIRST OUT )\n",
    "\n",
    "class Node:\n",
    "    def __init__(self,value):\n",
    "        self.data=value\n",
    "        self.next=None\n",
    "\n"
   ]
  },
  {
   "cell_type": "code",
   "execution_count": null,
   "id": "3e6308d1",
   "metadata": {
    "ExecuteTime": {
     "end_time": "2025-07-11T23:10:06.909919Z",
     "start_time": "2025-07-11T23:10:06.903466Z"
    }
   },
   "outputs": [],
   "source": [
    "class Stack:\n",
    "    def __init__(self):\n",
    "        self.top=None\n",
    "    \n",
    "    def isempyty(self):\n",
    "        return self.top==None\n",
    "    \n",
    "    def push(self,value):\n",
    "        new_node=Node(value)\n",
    "        new_node.next=self.top\n",
    "        self.top=new_node\n",
    "    \n",
    "    def traverse(self):\n",
    "        temp=self.top\n",
    "        \n",
    "        while temp!=None:\n",
    "            print(temp.data,end=\"\")\n",
    "\n",
    "            temp=temp.next\n",
    "    def peek(self):\n",
    "        if (self.isempyty()):\n",
    "            return None\n",
    "        else:\n",
    "            return self.top.data\n",
    "    \n",
    "    def pop(self):\n",
    "        if (self.isempyty()):\n",
    "            return \"stack empyty\"\n",
    "        else:\n",
    "            data=self.top.data\n",
    "            self.top=self.top.next\n",
    "            return data\n",
    "    def size(self):\n",
    "        temp=self.top\n",
    "        counter=0\n",
    "\n",
    "        while temp!=None:\n",
    "            counter=counter+1\n",
    "            temp=temp.next\n",
    "        \n",
    "        return counter\n",
    "    \n",
    "    \n",
    "\n",
    "            \n",
    "\n"
   ]
  },
  {
   "cell_type": "code",
   "execution_count": null,
   "id": "ecc17961",
   "metadata": {
    "ExecuteTime": {
     "end_time": "2025-07-11T23:10:10.145572Z",
     "start_time": "2025-07-11T23:10:10.137534Z"
    }
   },
   "outputs": [
    {
     "name": "stdout",
     "output_type": "stream",
     "text": [
      "5432None\n"
     ]
    },
    {
     "data": {
      "text/plain": [
       "4"
      ]
     },
     "execution_count": 3,
     "metadata": {},
     "output_type": "execute_result"
    }
   ],
   "source": [
    "s=Stack()\n",
    "s.push(2)\n",
    "s.push(3)\n",
    "s.push(4)\n",
    "s.push(5)\n",
    "\n",
    "print(s.traverse())\n",
    "s.pop()\n",
    "s.peek()"
   ]
  },
  {
   "cell_type": "code",
   "execution_count": null,
   "id": "5c3f3685",
   "metadata": {
    "ExecuteTime": {
     "end_time": "2025-07-11T23:10:12.531931Z",
     "start_time": "2025-07-11T23:10:12.527067Z"
    }
   },
   "outputs": [
    {
     "name": "stdout",
     "output_type": "stream",
     "text": [
      " Hello\n"
     ]
    }
   ],
   "source": [
    "# String reversal \n",
    "def reverse_string(text):\n",
    "\n",
    "    word_stack=Stack()\n",
    "    for i in text:\n",
    "        word_stack.push(i)\n",
    "    \n",
    "    res=\" \"\n",
    "    while(not word_stack.isempyty()):\n",
    "        res=res + word_stack.pop()\n",
    "    \n",
    "    print(res)\n",
    "\n",
    "reverse_string(\"olleH\")"
   ]
  },
  {
   "cell_type": "code",
   "execution_count": null,
   "id": "91eb7c87",
   "metadata": {},
   "outputs": [
    {
     "data": {
      "text/plain": [
       "'Kolkata'"
      ]
     },
     "execution_count": 64,
     "metadata": {},
     "output_type": "execute_result"
    }
   ],
   "source": [
    "# text editor problem\n",
    "\n",
    "def text_editor(value,action):\n",
    "    original=Stack()\n",
    "    temporary=Stack()\n",
    "\n",
    "    for i in value:\n",
    "        original.push(i)\n",
    "    \n",
    "    for i in action:\n",
    "    \n",
    "        if not original.isempyty():\n",
    "         \n",
    "            if i ==\"u\":\n",
    "                \n",
    "                temporary.push(original.pop())\n",
    "            if i ==\"r\" and not temporary.isempyty():\n",
    "                original.push(temporary.pop())\n",
    "    \n",
    "    res =\"\"\n",
    "    while (not original.isempyty()):\n",
    "        res=original.pop()+res\n",
    "    return res\n",
    "\n",
    "text_editor(value=\"Kolkata\",action=\"ur\")      "
   ]
  },
  {
   "cell_type": "code",
   "execution_count": null,
   "id": "cba31208",
   "metadata": {},
   "outputs": [
    {
     "name": "stdout",
     "output_type": "stream",
     "text": [
      "[0, 0, 1, 0][0, 0, 0, 0][0, 0, 1, 0][0, 0, 1, 1]"
     ]
    }
   ],
   "source": [
    "# Celebrity problem\n",
    "\n",
    "L =[\n",
    "    [0,0,1,1],\n",
    "    [0,0,1,0],\n",
    "    [0,0,0,0],\n",
    "    [0,0,1,0]\n",
    "]\n",
    "\n",
    "def find_the_celeb(L):\n",
    "    my_stack=Stack()\n",
    "\n",
    "    for char in L : \n",
    "        my_stack.push(char)\n",
    "    \n",
    "    while my_stack.size()>=2:\n",
    "        i=my_stack.pop()\n",
    "        j=my_stack.pop()\n",
    "        \n",
    "        if L[i][j]==0:\n",
    "            # j is not a celebrity \n",
    "            my_stack.push(i)\n",
    "        \n",
    "\n",
    "\n",
    "    \n",
    "\n",
    "    \n",
    "\n",
    "    \n",
    "    my_stack.traverse()\n",
    "\n",
    "find_the_celeb(L)"
   ]
  },
  {
   "cell_type": "code",
   "id": "3de9b964",
   "metadata": {
    "ExecuteTime": {
     "end_time": "2025-07-12T20:46:08.629546Z",
     "start_time": "2025-07-12T20:46:08.614540Z"
    }
   },
   "source": [
    "# Balanced bracket problem\n",
    "def check_bracket():\n",
    "    my_str=\"[a+b\"\n",
    "    my_stack=Stack()\n",
    "    for temp in my_str:\n",
    "         if temp=='[' or temp=='(' or temp=='{':\n",
    "             my_stack.push(temp)\n",
    "\n",
    "         if temp ==\"}\" or temp == \")\" or temp==\"]\":\n",
    "            if not my_stack.isempyty():\n",
    "\n",
    "             if my_stack.peek()==\"{\" and temp!=\"}\" or my_stack.peek()==\"(\" and temp!=\")\" or my_stack.peek()==\"[\" and temp!=\"]\":\n",
    "                print(my_stack.peek())\n",
    "                return (\"someting went wrongggg\")\n",
    "\n",
    "            if my_stack.peek()==\"{\" and temp==\"}\" or my_stack.peek()==\"(\" and temp==\")\" or my_stack.peek()==\"[\" and temp==\"]\" :\n",
    "                       my_stack.pop()\n",
    "            else:\n",
    "                return (\"someting went wrong bitch\")\n",
    "\n",
    "\n",
    "\n",
    "\n",
    "    if not my_stack.isempyty():\n",
    "        return (\"something went wrong\")\n",
    "    else:\n",
    "        return (\"ok\")\n",
    "\n",
    "\n",
    "check_bracket()\n",
    "\n",
    "\n",
    "\n",
    "\n",
    "\n",
    "\n",
    "\n",
    "\n",
    "\n"
   ],
   "outputs": [
    {
     "data": {
      "text/plain": [
       "'something went wrong'"
      ]
     },
     "execution_count": 50,
     "metadata": {},
     "output_type": "execute_result"
    }
   ],
   "execution_count": 50
  }
 ],
 "metadata": {
  "kernelspec": {
   "display_name": "Python 3",
   "language": "python",
   "name": "python3"
  },
  "language_info": {
   "codemirror_mode": {
    "name": "ipython",
    "version": 3
   },
   "file_extension": ".py",
   "mimetype": "text/x-python",
   "name": "python",
   "nbconvert_exporter": "python",
   "pygments_lexer": "ipython3",
   "version": "3.11.9"
  }
 },
 "nbformat": 4,
 "nbformat_minor": 5
}
