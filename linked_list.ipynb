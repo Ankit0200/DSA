{
 "cells": [
  {
   "cell_type": "code",
   "execution_count": 2,
   "id": "9e593dc5",
   "metadata": {
    "vscode": {
     "languageId": "ruby"
    }
   },
   "outputs": [],
   "source": [
    "class Node:\n",
    "    def __init__(self,value):\n",
    "        self.data=value\n",
    "        self.next = None\n",
    "        \n",
    "\n"
   ]
  },
  {
   "cell_type": "code",
   "execution_count": null,
   "id": "12d6300d",
   "metadata": {},
   "outputs": [],
   "source": []
  },
  {
   "cell_type": "code",
   "execution_count": null,
   "id": "dbb93306",
   "metadata": {},
   "outputs": [
    {
     "data": {
      "text/plain": [
       "<__main__.Node at 0x2aed0a6a810>"
      ]
     },
     "execution_count": 13,
     "metadata": {},
     "output_type": "execute_result"
    }
   ],
   "source": [
    "a = Node(1)\n",
    "b=Node(2)\n",
    "c=Node(3)\n",
    "\n",
    "a.next = b\n",
    "b.next=c"
   ]
  },
  {
   "cell_type": "code",
   "execution_count": null,
   "id": "5b02e06d",
   "metadata": {},
   "outputs": [],
   "source": [
    "class LinkedList:\n",
    "    def __init__(self):\n",
    "        self.head = None\n",
    "        self.n = 0\n",
    "    \n",
    "    def __len__(self):\n",
    "        return self.n\n",
    "    \n",
    "    # here we are inserting from headd..\n",
    "    \n",
    "    def insert_head(self,value):\n",
    "        new_node=Node(value)\n",
    "\n",
    "        # create conn\n",
    "        new_node.next = self.head\n",
    "\n",
    "        self.head=new_node\n",
    "        self.n=self.n+1\n",
    "\n",
    "\n",
    "    # NOw we have to add from tail .  \n",
    "\n",
    "    def append(self,value):\n",
    "        \n",
    "        new_node=Node(value)\n",
    "\n",
    "        if self.head == None:\n",
    "            self.head=new_node\n",
    "            self.n = self.n +1\n",
    "            return \n",
    "\n",
    "\n",
    "\n",
    "        current_item=self.head\n",
    "\n",
    "        while current_item.next != None:\n",
    "            current_item=current_item.next\n",
    "        \n",
    "        # now we are at the last node. \n",
    "        current_item.next = new_node\n",
    "        self.n = self.n +1\n",
    "    \n",
    "    # now inserting after certain value. \n",
    "\n",
    "    def insert_after(self,value,reference):\n",
    "        if self.head ==\"\":\n",
    "            print(\"reference doesn't exist.\")\n",
    "            return\n",
    "        \n",
    "        new_node=Node(value)\n",
    "\n",
    "        current_pos=self.head\n",
    "\n",
    "        while current_pos != None:\n",
    "            if current_pos.data !=reference:\n",
    "                current_pos=current_pos.next\n",
    "            else:\n",
    "                break\n",
    "        if current_pos ==None:\n",
    "            print ( \" Reference doesn't exist\")\n",
    "            return\n",
    "        else:\n",
    "\n",
    "            new_node.next=current_pos.next\n",
    "\n",
    "            current_pos.next= new_node\n",
    "            self.n=self.n + 1\n",
    "            \n",
    " \n",
    "    \n",
    "    \n",
    "\n",
    "\n",
    "\n",
    "\n",
    "\n",
    "\n",
    "\n",
    "\n",
    "    \n",
    "    # traverse means goind to each data and go forward. \n",
    "\n",
    "    def __str__(self):\n",
    "        curr =self.head\n",
    "        result =''\n",
    "\n",
    "        while curr != None:\n",
    "            result = result + str(curr.data) + '->'\n",
    "            curr=curr.next\n",
    "        \n",
    "        return result[:-2]\n",
    "    \n",
    "\n",
    "\n",
    "\n",
    "\n",
    "\n",
    "\n",
    "\n",
    "\n",
    "\n",
    "\n",
    "\n",
    "L = LinkedList() \n",
    "L.insert_head(1)\n",
    "L.insert_head(2)\n",
    "L.insert_head(3)\n",
    "L.insert_head(4)\n",
    "\n"
   ]
  },
  {
   "cell_type": "code",
   "execution_count": 30,
   "id": "053e3be9",
   "metadata": {},
   "outputs": [
    {
     "name": "stdout",
     "output_type": "stream",
     "text": [
      " Reference doesn't exist\n",
      " Reference doesn't exist\n"
     ]
    }
   ],
   "source": [
    "L.insert_after(value=100,reference=300)\n",
    "M=LinkedList()\n",
    "M.insert_after(value=10,reference=100)"
   ]
  }
 ],
 "metadata": {
  "kernelspec": {
   "display_name": "Python 3",
   "language": "python",
   "name": "python3"
  },
  "language_info": {
   "codemirror_mode": {
    "name": "ipython",
    "version": 3
   },
   "file_extension": ".py",
   "mimetype": "text/x-python",
   "name": "python",
   "nbconvert_exporter": "python",
   "pygments_lexer": "ipython3",
   "version": "3.11.9"
  }
 },
 "nbformat": 4,
 "nbformat_minor": 5
}
